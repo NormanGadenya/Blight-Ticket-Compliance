{
 "cells": [
  {
   "cell_type": "markdown",
   "metadata": {},
   "source": [
    "## Understanding and Predicting Property Maintenance Fines\n",
    "\n",
    "This research is based on a data challenge from the Michigan Data Science Team ([MDST](http://midas.umich.edu/mdst/)). \n",
    "\n",
    "The Michigan Data Science Team ([MDST](http://midas.umich.edu/mdst/)) and the Michigan Student Symposium for Interdisciplinary Statistical Sciences ([MSSISS](https://sites.lsa.umich.edu/mssiss/)) have partnered with the City of Detroit to help solve one of the most pressing problems facing Detroit - blight. [Blight violations](http://www.detroitmi.gov/How-Do-I/Report/Blight-Complaint-FAQs) are issued by the city to individuals who allow their properties to remain in a deteriorated condition. Every year, the city of Detroit issues millions of dollars in fines to residents and every year, many of these fines remain unpaid. Enforcing unpaid blight fines is a costly and tedious process, so the city wants to know: how can we increase blight ticket compliance?\n",
    "\n",
    "The first step in answering this question is understanding when and why a resident might fail to comply with a blight ticket. This is where predictive modeling comes in. For this assignment, the task is to predict whether a given blight ticket will be paid on time.\n",
    "\n",
    "All data for this research has been provided to us through the [Detroit Open Data Portal](https://data.detroitmi.gov/). \n",
    "\n",
    "There are two data files for use in training and validating models: train.csv and test.csv. Each row in these two files corresponds to a single blight ticket, and includes information about when, why, and to whom each ticket was issued. The target variable is compliance, which is True if the ticket was paid early, on time, or within one month of the hearing data, False if the ticket was paid after the hearing date or not at all, and Null if the violator was found not responsible. Compliance, as well as a handful of other variables that will not be available at test-time, are only included in train.csv.\n",
    "\n",
    "Note: All tickets where the violators were found not responsible are not considered during evaluation. They are included in the training set as an additional source of data for visualization, and to enable unsupervised and semi-supervised approaches. However, they are not included in the test set.\n",
    "\n",
    "<br>\n",
    "\n",
    "**File descriptions** (Using only this data for training the model!)\n",
    "\n",
    "    train.csv - the training set (all tickets issued 2004-2011)\n",
    "    test.csv - the test set (all tickets issued 2012-2016)\n",
    "    addresses.csv & latlons.csv - mapping from ticket id to addresses, and from addresses to lat/lon coordinates. \n",
    "     Note: misspelled addresses may be incorrectly geolocated.\n",
    "\n",
    "<br>\n",
    "\n",
    "**Data fields**\n",
    "\n",
    "train.csv & test.csv\n",
    "\n",
    "    ticket_id - unique identifier for tickets\n",
    "    agency_name - Agency that issued the ticket\n",
    "    inspector_name - Name of inspector that issued the ticket\n",
    "    violator_name - Name of the person/organization that the ticket was issued to\n",
    "    violation_street_number, violation_street_name, violation_zip_code - Address where the violation occurred\n",
    "    mailing_address_str_number, mailing_address_str_name, city, state, zip_code, non_us_str_code, country - Mailing address of the violator\n",
    "    ticket_issued_date - Date and time the ticket was issued\n",
    "    hearing_date - Date and time the violator's hearing was scheduled\n",
    "    violation_code, violation_description - Type of violation\n",
    "    disposition - Judgment and judgement type\n",
    "    fine_amount - Violation fine amount, excluding fees\n",
    "    admin_fee - $20 fee assigned to responsible judgments\n",
    "state_fee - $10 fee assigned to responsible judgments\n",
    "    late_fee - 10% fee assigned to responsible judgments\n",
    "    discount_amount - discount applied, if any\n",
    "    clean_up_cost - DPW clean-up or graffiti removal cost\n",
    "    judgment_amount - Sum of all fines and fees\n",
    "    grafitti_status - Flag for graffiti violations\n",
    "    \n",
    "train.csv only\n",
    "\n",
    "    payment_amount - Amount paid, if any\n",
    "    payment_date - Date payment was made, if it was received\n",
    "    payment_status - Current payment status as of Feb 1 2017\n",
    "    balance_due - Fines and fees still owed\n",
    "    collection_status - Flag for payments in collections\n",
    "    compliance [target variable for prediction] \n",
    "     Null = Not responsible\n",
    "     0 = Responsible, non-compliant\n",
    "     1 = Responsible, compliant\n",
    "    compliance_detail - More information on why each ticket was marked compliant or non-compliant\n",
    "\n",
    "\n",
    "___\n",
    "\n",
    "## Evaluation\n",
    "\n",
    "Predictions will be given as the probability that the corresponding blight ticket will be paid on time.\n",
    "\n",
    "The evaluation metric for this assignment is the Area Under the ROC Curve (AUC). "
   ]
  },
  {
   "cell_type": "code",
   "execution_count": 46,
   "metadata": {},
   "outputs": [
    {
     "data": {
      "text/plain": [
       "(159880, 61001, 220881, 220881)"
      ]
     },
     "execution_count": 46,
     "metadata": {},
     "output_type": "execute_result"
    }
   ],
   "source": [
    "import numpy as np\n",
    "import pandas as pd\n",
    "\n",
    "# loading data files\n",
    "pd.set_option('display.max_columns', None)  \n",
    "train = pd.read_csv('csvs/train.csv', encoding='ISO-8859-1', low_memory=False)\n",
    "train = train[(train['compliance'] == 1.0) | (train['compliance'] == 0.0)]\n",
    "\n",
    "test = pd.read_csv('csvs/test.csv', encoding='ISO-8859-1', low_memory=False)\n",
    "train_label = train['compliance']\n",
    "\n",
    "# dropping columns that can lead to data leakage\n",
    "train_drop = ['payment_amount', 'payment_date', 'payment_status', 'balance_due', 'collection_status', 'grafitti_status', 'compliance_detail', 'compliance']\n",
    "train.drop(train_drop, axis=1, inplace=True)\n",
    "\n",
    "# concatenating both dataframes to later turn categories into codes\n",
    "df = pd.concat([train, test])\n",
    "len(train), len(test), len(train)+len(test), len(df)"
   ]
  },
  {
   "cell_type": "code",
   "execution_count": 47,
   "metadata": {},
   "outputs": [
    {
     "data": {
      "text/plain": [
       "(5, 217, 223, 8, 298)"
      ]
     },
     "execution_count": 47,
     "metadata": {},
     "output_type": "execute_result"
    }
   ],
   "source": [
    "len(df['agency_name'].unique()), len(df['inspector_name'].unique()), len(df['violation_code'].unique()), len(df['disposition'].unique()), len(df['clean_up_cost'].unique())"
   ]
  },
  {
   "cell_type": "markdown",
   "metadata": {},
   "source": [
    "## Dropping unnecessary columns in both train and test datasets "
   ]
  },
  {
   "cell_type": "code",
   "execution_count": 48,
   "metadata": {},
   "outputs": [],
   "source": [
    "common_drop = ['clean_up_cost', 'city', 'grafitti_status', 'discount_amount', 'violation_street_number', 'violation_description', 'ticket_issued_date', 'hearing_date', 'state', 'zip_code', 'non_us_str_code', 'country', 'violator_name', 'violator_name', 'violation_zip_code', 'mailing_address_str_number', 'mailing_address_str_name']\n",
    "df.drop(common_drop, axis=1, inplace=True)"
   ]
  },
  {
   "cell_type": "code",
   "execution_count": 49,
   "metadata": {},
   "outputs": [
    {
     "data": {
      "text/html": [
       "<div>\n",
       "<style scoped>\n",
       "    .dataframe tbody tr th:only-of-type {\n",
       "        vertical-align: middle;\n",
       "    }\n",
       "\n",
       "    .dataframe tbody tr th {\n",
       "        vertical-align: top;\n",
       "    }\n",
       "\n",
       "    .dataframe thead th {\n",
       "        text-align: right;\n",
       "    }\n",
       "</style>\n",
       "<table border=\"1\" class=\"dataframe\">\n",
       "  <thead>\n",
       "    <tr style=\"text-align: right;\">\n",
       "      <th></th>\n",
       "      <th>admin_fee</th>\n",
       "      <th>agency_name</th>\n",
       "      <th>disposition</th>\n",
       "      <th>fine_amount</th>\n",
       "      <th>inspector_name</th>\n",
       "      <th>judgment_amount</th>\n",
       "      <th>late_fee</th>\n",
       "      <th>state_fee</th>\n",
       "      <th>violation_code</th>\n",
       "      <th>violation_street_name</th>\n",
       "    </tr>\n",
       "    <tr>\n",
       "      <th>ticket_id</th>\n",
       "      <th></th>\n",
       "      <th></th>\n",
       "      <th></th>\n",
       "      <th></th>\n",
       "      <th></th>\n",
       "      <th></th>\n",
       "      <th></th>\n",
       "      <th></th>\n",
       "      <th></th>\n",
       "      <th></th>\n",
       "    </tr>\n",
       "  </thead>\n",
       "  <tbody>\n",
       "    <tr>\n",
       "      <th>22056</th>\n",
       "      <td>20.0</td>\n",
       "      <td>Buildings, Safety Engineering &amp; Env Department</td>\n",
       "      <td>Responsible by Default</td>\n",
       "      <td>250.0</td>\n",
       "      <td>Sims, Martinzie</td>\n",
       "      <td>305.0</td>\n",
       "      <td>25.0</td>\n",
       "      <td>10.0</td>\n",
       "      <td>9-1-36(a)</td>\n",
       "      <td>TYLER</td>\n",
       "    </tr>\n",
       "    <tr>\n",
       "      <th>27586</th>\n",
       "      <td>20.0</td>\n",
       "      <td>Buildings, Safety Engineering &amp; Env Department</td>\n",
       "      <td>Responsible by Determination</td>\n",
       "      <td>750.0</td>\n",
       "      <td>Williams, Darrin</td>\n",
       "      <td>855.0</td>\n",
       "      <td>75.0</td>\n",
       "      <td>10.0</td>\n",
       "      <td>61-63.0600</td>\n",
       "      <td>CENTRAL</td>\n",
       "    </tr>\n",
       "    <tr>\n",
       "      <th>22046</th>\n",
       "      <td>20.0</td>\n",
       "      <td>Buildings, Safety Engineering &amp; Env Department</td>\n",
       "      <td>Responsible by Default</td>\n",
       "      <td>250.0</td>\n",
       "      <td>Sims, Martinzie</td>\n",
       "      <td>305.0</td>\n",
       "      <td>25.0</td>\n",
       "      <td>10.0</td>\n",
       "      <td>9-1-36(a)</td>\n",
       "      <td>NORTHFIELD</td>\n",
       "    </tr>\n",
       "    <tr>\n",
       "      <th>18738</th>\n",
       "      <td>20.0</td>\n",
       "      <td>Buildings, Safety Engineering &amp; Env Department</td>\n",
       "      <td>Responsible by Default</td>\n",
       "      <td>750.0</td>\n",
       "      <td>Williams, Darrin</td>\n",
       "      <td>855.0</td>\n",
       "      <td>75.0</td>\n",
       "      <td>10.0</td>\n",
       "      <td>61-63.0500</td>\n",
       "      <td>BRENTWOOD</td>\n",
       "    </tr>\n",
       "    <tr>\n",
       "      <th>18735</th>\n",
       "      <td>20.0</td>\n",
       "      <td>Buildings, Safety Engineering &amp; Env Department</td>\n",
       "      <td>Responsible by Default</td>\n",
       "      <td>100.0</td>\n",
       "      <td>Williams, Darrin</td>\n",
       "      <td>140.0</td>\n",
       "      <td>10.0</td>\n",
       "      <td>10.0</td>\n",
       "      <td>61-63.0100</td>\n",
       "      <td>MT ELLIOTT</td>\n",
       "    </tr>\n",
       "  </tbody>\n",
       "</table>\n",
       "</div>"
      ],
      "text/plain": [
       "           admin_fee                                     agency_name  \\\n",
       "ticket_id                                                              \n",
       "22056           20.0  Buildings, Safety Engineering & Env Department   \n",
       "27586           20.0  Buildings, Safety Engineering & Env Department   \n",
       "22046           20.0  Buildings, Safety Engineering & Env Department   \n",
       "18738           20.0  Buildings, Safety Engineering & Env Department   \n",
       "18735           20.0  Buildings, Safety Engineering & Env Department   \n",
       "\n",
       "                            disposition  fine_amount    inspector_name  \\\n",
       "ticket_id                                                                \n",
       "22056            Responsible by Default        250.0   Sims, Martinzie   \n",
       "27586      Responsible by Determination        750.0  Williams, Darrin   \n",
       "22046            Responsible by Default        250.0   Sims, Martinzie   \n",
       "18738            Responsible by Default        750.0  Williams, Darrin   \n",
       "18735            Responsible by Default        100.0  Williams, Darrin   \n",
       "\n",
       "           judgment_amount  late_fee  state_fee violation_code  \\\n",
       "ticket_id                                                        \n",
       "22056                305.0      25.0       10.0      9-1-36(a)   \n",
       "27586                855.0      75.0       10.0     61-63.0600   \n",
       "22046                305.0      25.0       10.0      9-1-36(a)   \n",
       "18738                855.0      75.0       10.0     61-63.0500   \n",
       "18735                140.0      10.0       10.0     61-63.0100   \n",
       "\n",
       "          violation_street_name  \n",
       "ticket_id                        \n",
       "22056                     TYLER  \n",
       "27586                   CENTRAL  \n",
       "22046                NORTHFIELD  \n",
       "18738                 BRENTWOOD  \n",
       "18735                MT ELLIOTT  "
      ]
     },
     "execution_count": 49,
     "metadata": {},
     "output_type": "execute_result"
    }
   ],
   "source": [
    "df = df.set_index('ticket_id')\n",
    "df.head()"
   ]
  },
  {
   "cell_type": "markdown",
   "metadata": {},
   "source": [
    "## Turning catogorical data to codes"
   ]
  },
  {
   "cell_type": "code",
   "execution_count": 50,
   "metadata": {},
   "outputs": [],
   "source": [
    "cat_columns = ['agency_name', 'inspector_name', 'violation_street_name', 'violation_code', 'disposition']\n",
    "for col in cat_columns:\n",
    "    df[col] = df[col].astype('category') \n",
    "df[cat_columns] = df[cat_columns].apply(lambda x: x.cat.codes)"
   ]
  },
  {
   "cell_type": "code",
   "execution_count": 51,
   "metadata": {},
   "outputs": [
    {
     "data": {
      "text/html": [
       "<div>\n",
       "<style scoped>\n",
       "    .dataframe tbody tr th:only-of-type {\n",
       "        vertical-align: middle;\n",
       "    }\n",
       "\n",
       "    .dataframe tbody tr th {\n",
       "        vertical-align: top;\n",
       "    }\n",
       "\n",
       "    .dataframe thead th {\n",
       "        text-align: right;\n",
       "    }\n",
       "</style>\n",
       "<table border=\"1\" class=\"dataframe\">\n",
       "  <thead>\n",
       "    <tr style=\"text-align: right;\">\n",
       "      <th></th>\n",
       "      <th>admin_fee</th>\n",
       "      <th>agency_name</th>\n",
       "      <th>disposition</th>\n",
       "      <th>fine_amount</th>\n",
       "      <th>inspector_name</th>\n",
       "      <th>judgment_amount</th>\n",
       "      <th>late_fee</th>\n",
       "      <th>state_fee</th>\n",
       "      <th>violation_code</th>\n",
       "      <th>violation_street_name</th>\n",
       "    </tr>\n",
       "    <tr>\n",
       "      <th>ticket_id</th>\n",
       "      <th></th>\n",
       "      <th></th>\n",
       "      <th></th>\n",
       "      <th></th>\n",
       "      <th></th>\n",
       "      <th></th>\n",
       "      <th></th>\n",
       "      <th></th>\n",
       "      <th></th>\n",
       "      <th></th>\n",
       "    </tr>\n",
       "  </thead>\n",
       "  <tbody>\n",
       "    <tr>\n",
       "      <th>22056</th>\n",
       "      <td>20.0</td>\n",
       "      <td>0</td>\n",
       "      <td>5</td>\n",
       "      <td>250.0</td>\n",
       "      <td>172</td>\n",
       "      <td>305.0</td>\n",
       "      <td>25.0</td>\n",
       "      <td>10.0</td>\n",
       "      <td>175</td>\n",
       "      <td>1634</td>\n",
       "    </tr>\n",
       "    <tr>\n",
       "      <th>27586</th>\n",
       "      <td>20.0</td>\n",
       "      <td>0</td>\n",
       "      <td>6</td>\n",
       "      <td>750.0</td>\n",
       "      <td>208</td>\n",
       "      <td>855.0</td>\n",
       "      <td>75.0</td>\n",
       "      <td>10.0</td>\n",
       "      <td>98</td>\n",
       "      <td>303</td>\n",
       "    </tr>\n",
       "    <tr>\n",
       "      <th>22046</th>\n",
       "      <td>20.0</td>\n",
       "      <td>0</td>\n",
       "      <td>5</td>\n",
       "      <td>250.0</td>\n",
       "      <td>172</td>\n",
       "      <td>305.0</td>\n",
       "      <td>25.0</td>\n",
       "      <td>10.0</td>\n",
       "      <td>175</td>\n",
       "      <td>1235</td>\n",
       "    </tr>\n",
       "    <tr>\n",
       "      <th>18738</th>\n",
       "      <td>20.0</td>\n",
       "      <td>0</td>\n",
       "      <td>5</td>\n",
       "      <td>750.0</td>\n",
       "      <td>208</td>\n",
       "      <td>855.0</td>\n",
       "      <td>75.0</td>\n",
       "      <td>10.0</td>\n",
       "      <td>97</td>\n",
       "      <td>209</td>\n",
       "    </tr>\n",
       "    <tr>\n",
       "      <th>18735</th>\n",
       "      <td>20.0</td>\n",
       "      <td>0</td>\n",
       "      <td>5</td>\n",
       "      <td>100.0</td>\n",
       "      <td>208</td>\n",
       "      <td>140.0</td>\n",
       "      <td>10.0</td>\n",
       "      <td>10.0</td>\n",
       "      <td>96</td>\n",
       "      <td>1197</td>\n",
       "    </tr>\n",
       "  </tbody>\n",
       "</table>\n",
       "</div>"
      ],
      "text/plain": [
       "           admin_fee  agency_name  disposition  fine_amount  inspector_name  \\\n",
       "ticket_id                                                                     \n",
       "22056           20.0            0            5        250.0             172   \n",
       "27586           20.0            0            6        750.0             208   \n",
       "22046           20.0            0            5        250.0             172   \n",
       "18738           20.0            0            5        750.0             208   \n",
       "18735           20.0            0            5        100.0             208   \n",
       "\n",
       "           judgment_amount  late_fee  state_fee  violation_code  \\\n",
       "ticket_id                                                         \n",
       "22056                305.0      25.0       10.0             175   \n",
       "27586                855.0      75.0       10.0              98   \n",
       "22046                305.0      25.0       10.0             175   \n",
       "18738                855.0      75.0       10.0              97   \n",
       "18735                140.0      10.0       10.0              96   \n",
       "\n",
       "           violation_street_name  \n",
       "ticket_id                         \n",
       "22056                       1634  \n",
       "27586                        303  \n",
       "22046                       1235  \n",
       "18738                        209  \n",
       "18735                       1197  "
      ]
     },
     "execution_count": 51,
     "metadata": {},
     "output_type": "execute_result"
    }
   ],
   "source": [
    "df.head()"
   ]
  },
  {
   "cell_type": "markdown",
   "metadata": {},
   "source": [
    "## Splitting the dataframes back to test and train"
   ]
  },
  {
   "cell_type": "code",
   "execution_count": 52,
   "metadata": {},
   "outputs": [
    {
     "data": {
      "text/plain": [
       "61001"
      ]
     },
     "execution_count": 52,
     "metadata": {},
     "output_type": "execute_result"
    }
   ],
   "source": [
    "X_train = df.iloc[0:len(train),:]\n",
    "y_train = train_label\n",
    "X_test = df.iloc[len(train):,:]\n",
    "len(X_test)"
   ]
  },
  {
   "cell_type": "markdown",
   "metadata": {},
   "source": [
    "## Trying and testing different classifiers and performing GridSearch over it for the best ROC score"
   ]
  },
  {
   "cell_type": "code",
   "execution_count": 53,
   "metadata": {},
   "outputs": [
    {
     "name": "stdout",
     "output_type": "stream",
     "text": [
      "Grid best parameter (max. AUC):  {'learning_rate': 0.1, 'max_depth': 3}\n",
      "Grid best score (AUC):  0.796389045766\n"
     ]
    },
    {
     "data": {
      "text/plain": [
       "array([[ 0.90251199,  0.09748801],\n",
       "       [ 0.981563  ,  0.018437  ],\n",
       "       [ 0.94552092,  0.05447908],\n",
       "       ..., \n",
       "       [ 0.93550976,  0.06449024],\n",
       "       [ 0.93550976,  0.06449024],\n",
       "       [ 0.24540188,  0.75459812]])"
      ]
     },
     "execution_count": 53,
     "metadata": {},
     "output_type": "execute_result"
    }
   ],
   "source": [
    "from sklearn.ensemble import RandomForestClassifier\n",
    "from sklearn.metrics import roc_auc_score\n",
    "from sklearn.ensemble import GradientBoostingClassifier\n",
    "from sklearn.naive_bayes import GaussianNB\n",
    "from sklearn.svm import SVC\n",
    "from sklearn.model_selection import GridSearchCV\n",
    "\n",
    "grid_values = {'learning_rate': [0.01, 0.1, 1], 'max_depth': [3, 4, 5]}\n",
    "clf = GradientBoostingClassifier(random_state = 0)\n",
    "grid_clf_auc = GridSearchCV(clf, param_grid = grid_values, scoring = 'roc_auc')\n",
    "grid_clf_auc.fit(X_train, y_train)\n",
    "\n",
    "result = grid_clf_auc.predict_proba(X_test) \n",
    "\n",
    "\n",
    "\n",
    "print('Grid best parameter (max. AUC): ', grid_clf_auc.best_params_)\n",
    "print('Grid best score (AUC): ', grid_clf_auc.best_score_)\n",
    "\n",
    "result"
   ]
  },
  {
   "cell_type": "markdown",
   "metadata": {},
   "source": [
    "## Returning a series of length 61001 with the data being the probability that each corresponding ticket from test.csv will be paid, and the index being the ticket_id"
   ]
  },
  {
   "cell_type": "code",
   "execution_count": 56,
   "metadata": {},
   "outputs": [
    {
     "data": {
      "text/plain": [
       "ticket_id\n",
       "284932    0.097488\n",
       "285362    0.018437\n",
       "285361    0.054479\n",
       "285338    0.048851\n",
       "285346    0.064787\n",
       "dtype: float64"
      ]
     },
     "execution_count": 56,
     "metadata": {},
     "output_type": "execute_result"
    }
   ],
   "source": [
    "ans = pd.Series(result[:,1], index=X_test.index)\n",
    "ans.head()"
   ]
  },
  {
   "cell_type": "code",
   "execution_count": null,
   "metadata": {},
   "outputs": [],
   "source": []
  }
 ],
 "metadata": {
  "kernelspec": {
   "display_name": "Python 3",
   "language": "python",
   "name": "python3"
  },
  "language_info": {
   "codemirror_mode": {
    "name": "ipython",
    "version": 3
   },
   "file_extension": ".py",
   "mimetype": "text/x-python",
   "name": "python",
   "nbconvert_exporter": "python",
   "pygments_lexer": "ipython3",
   "version": "3.5.4"
  }
 },
 "nbformat": 4,
 "nbformat_minor": 2
}
